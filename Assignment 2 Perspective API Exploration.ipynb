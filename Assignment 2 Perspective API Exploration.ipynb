{
 "cells": [
  {
   "cell_type": "markdown",
   "id": "c7a6fa0a",
   "metadata": {},
   "source": [
    "##Perspective API Exploration##\n",
    "\n",
    "Below, I will be analyzing a dataset of Wikipedia comments made available by Jigsaw, a subsidiary of Google that created the Perspective tool. This dataset includes a unique comment id, the text of the comment, and a series of binary labels applied by human raters: \"toxic,\" \"severe_toxic,\" \"obscene,\" \"threat,\" \"insult,\" and \"identity_hate\" + an appended \"score\" column, which represents the toxicity score assigned to the comment text by the live version of the Perspective API. The data is available under a CC0 license.\n",
    "\n",
    "My hypothesis is that the Perspective API will make more mistakes in classifying comments as toxic if they contain more Internet slang acronyms, such as 'lol', 'lmao', 'lmfao', 'wth','wtf', 'jk', 'idk', 'smh', 'ikr', and 'tbh'."
   ]
  },
  {
   "cell_type": "code",
   "execution_count": 74,
   "id": "2bec08dd",
   "metadata": {},
   "outputs": [],
   "source": [
    "import pandas as pd\n",
    "import time\n",
    "\n",
    "df = pd.read_csv('/Users/emilydo/Downloads/labeled_and_scored_comments.csv')"
   ]
  },
  {
   "cell_type": "markdown",
   "id": "41431b07",
   "metadata": {},
   "source": [
    "Below is the dataset, organized by toxicity score."
   ]
  },
  {
   "cell_type": "code",
   "execution_count": 75,
   "id": "94eff6c3",
   "metadata": {
    "scrolled": true
   },
   "outputs": [
    {
     "data": {
      "text/html": [
       "<div>\n",
       "<style scoped>\n",
       "    .dataframe tbody tr th:only-of-type {\n",
       "        vertical-align: middle;\n",
       "    }\n",
       "\n",
       "    .dataframe tbody tr th {\n",
       "        vertical-align: top;\n",
       "    }\n",
       "\n",
       "    .dataframe thead th {\n",
       "        text-align: right;\n",
       "    }\n",
       "</style>\n",
       "<table border=\"1\" class=\"dataframe\">\n",
       "  <thead>\n",
       "    <tr style=\"text-align: right;\">\n",
       "      <th></th>\n",
       "      <th>id</th>\n",
       "      <th>comment_text</th>\n",
       "      <th>score</th>\n",
       "      <th>toxic</th>\n",
       "      <th>severe_toxic</th>\n",
       "      <th>obscene</th>\n",
       "      <th>threat</th>\n",
       "      <th>insult</th>\n",
       "      <th>identity_hate</th>\n",
       "    </tr>\n",
       "  </thead>\n",
       "  <tbody>\n",
       "    <tr>\n",
       "      <th>1158</th>\n",
       "      <td>61a85266de70cca0</td>\n",
       "      <td>Можешь говорить по русски.</td>\n",
       "      <td>0.000004</td>\n",
       "      <td>0</td>\n",
       "      <td>0</td>\n",
       "      <td>0</td>\n",
       "      <td>0</td>\n",
       "      <td>0</td>\n",
       "      <td>0</td>\n",
       "    </tr>\n",
       "    <tr>\n",
       "      <th>5246</th>\n",
       "      <td>030a9ba0b32b4456</td>\n",
       "      <td>Rodzina Krusenstern Potomkowie Admirała Adama ...</td>\n",
       "      <td>0.000009</td>\n",
       "      <td>0</td>\n",
       "      <td>0</td>\n",
       "      <td>0</td>\n",
       "      <td>0</td>\n",
       "      <td>0</td>\n",
       "      <td>0</td>\n",
       "    </tr>\n",
       "    <tr>\n",
       "      <th>11040</th>\n",
       "      <td>a6814193ac6b4705</td>\n",
       "      <td>The opening paragraph states that the game is ...</td>\n",
       "      <td>0.000091</td>\n",
       "      <td>0</td>\n",
       "      <td>0</td>\n",
       "      <td>0</td>\n",
       "      <td>0</td>\n",
       "      <td>0</td>\n",
       "      <td>0</td>\n",
       "    </tr>\n",
       "    <tr>\n",
       "      <th>24192</th>\n",
       "      <td>f0d6dee96e057a5b</td>\n",
       "      <td>The book is used as a source in a number of ar...</td>\n",
       "      <td>0.000116</td>\n",
       "      <td>0</td>\n",
       "      <td>0</td>\n",
       "      <td>0</td>\n",
       "      <td>0</td>\n",
       "      <td>0</td>\n",
       "      <td>0</td>\n",
       "    </tr>\n",
       "    <tr>\n",
       "      <th>2332</th>\n",
       "      <td>cbb9268d3c7429c1</td>\n",
       "      <td>Vals Vienés \\n |Rumba \\n |Cha Cha Chá(ciclo 7)</td>\n",
       "      <td>0.000131</td>\n",
       "      <td>0</td>\n",
       "      <td>0</td>\n",
       "      <td>0</td>\n",
       "      <td>0</td>\n",
       "      <td>0</td>\n",
       "      <td>0</td>\n",
       "    </tr>\n",
       "    <tr>\n",
       "      <th>...</th>\n",
       "      <td>...</td>\n",
       "      <td>...</td>\n",
       "      <td>...</td>\n",
       "      <td>...</td>\n",
       "      <td>...</td>\n",
       "      <td>...</td>\n",
       "      <td>...</td>\n",
       "      <td>...</td>\n",
       "      <td>...</td>\n",
       "    </tr>\n",
       "    <tr>\n",
       "      <th>19994</th>\n",
       "      <td>1429a2c930688317</td>\n",
       "      <td>you fucking piece of shit</td>\n",
       "      <td>0.997278</td>\n",
       "      <td>1</td>\n",
       "      <td>1</td>\n",
       "      <td>1</td>\n",
       "      <td>0</td>\n",
       "      <td>1</td>\n",
       "      <td>0</td>\n",
       "    </tr>\n",
       "    <tr>\n",
       "      <th>28728</th>\n",
       "      <td>d82e45eb103ad07b</td>\n",
       "      <td>fuck off you stupid aspy asshole</td>\n",
       "      <td>0.997736</td>\n",
       "      <td>1</td>\n",
       "      <td>1</td>\n",
       "      <td>1</td>\n",
       "      <td>0</td>\n",
       "      <td>1</td>\n",
       "      <td>0</td>\n",
       "    </tr>\n",
       "    <tr>\n",
       "      <th>25535</th>\n",
       "      <td>e9b92c6c6b01aeef</td>\n",
       "      <td>FUCK YOU YOU PIECE OF SHIT \\n FUCK YOU YOU PIE...</td>\n",
       "      <td>0.997982</td>\n",
       "      <td>1</td>\n",
       "      <td>1</td>\n",
       "      <td>1</td>\n",
       "      <td>0</td>\n",
       "      <td>1</td>\n",
       "      <td>0</td>\n",
       "    </tr>\n",
       "    <tr>\n",
       "      <th>25945</th>\n",
       "      <td>e783fd267f3a9d3b</td>\n",
       "      <td>FUCK WIKIPEDIA ON WHEELS! \\n\\nFuck off wikiped...</td>\n",
       "      <td>0.998136</td>\n",
       "      <td>1</td>\n",
       "      <td>1</td>\n",
       "      <td>1</td>\n",
       "      <td>0</td>\n",
       "      <td>1</td>\n",
       "      <td>0</td>\n",
       "    </tr>\n",
       "    <tr>\n",
       "      <th>17833</th>\n",
       "      <td>364b6c24210e2345</td>\n",
       "      <td>Fuck you you fucking pig!\\n\\nYou motherfucking...</td>\n",
       "      <td>0.998329</td>\n",
       "      <td>1</td>\n",
       "      <td>0</td>\n",
       "      <td>1</td>\n",
       "      <td>0</td>\n",
       "      <td>1</td>\n",
       "      <td>0</td>\n",
       "    </tr>\n",
       "  </tbody>\n",
       "</table>\n",
       "<p>41338 rows × 9 columns</p>\n",
       "</div>"
      ],
      "text/plain": [
       "                     id                                       comment_text  \\\n",
       "1158   61a85266de70cca0                         Можешь говорить по русски.   \n",
       "5246   030a9ba0b32b4456  Rodzina Krusenstern Potomkowie Admirała Adama ...   \n",
       "11040  a6814193ac6b4705  The opening paragraph states that the game is ...   \n",
       "24192  f0d6dee96e057a5b  The book is used as a source in a number of ar...   \n",
       "2332   cbb9268d3c7429c1     Vals Vienés \\n |Rumba \\n |Cha Cha Chá(ciclo 7)   \n",
       "...                 ...                                                ...   \n",
       "19994  1429a2c930688317                          you fucking piece of shit   \n",
       "28728  d82e45eb103ad07b                   fuck off you stupid aspy asshole   \n",
       "25535  e9b92c6c6b01aeef  FUCK YOU YOU PIECE OF SHIT \\n FUCK YOU YOU PIE...   \n",
       "25945  e783fd267f3a9d3b  FUCK WIKIPEDIA ON WHEELS! \\n\\nFuck off wikiped...   \n",
       "17833  364b6c24210e2345  Fuck you you fucking pig!\\n\\nYou motherfucking...   \n",
       "\n",
       "          score  toxic  severe_toxic  obscene  threat  insult  identity_hate  \n",
       "1158   0.000004      0             0        0       0       0              0  \n",
       "5246   0.000009      0             0        0       0       0              0  \n",
       "11040  0.000091      0             0        0       0       0              0  \n",
       "24192  0.000116      0             0        0       0       0              0  \n",
       "2332   0.000131      0             0        0       0       0              0  \n",
       "...         ...    ...           ...      ...     ...     ...            ...  \n",
       "19994  0.997278      1             1        1       0       1              0  \n",
       "28728  0.997736      1             1        1       0       1              0  \n",
       "25535  0.997982      1             1        1       0       1              0  \n",
       "25945  0.998136      1             1        1       0       1              0  \n",
       "17833  0.998329      1             0        1       0       1              0  \n",
       "\n",
       "[41338 rows x 9 columns]"
      ]
     },
     "execution_count": 75,
     "metadata": {},
     "output_type": "execute_result"
    }
   ],
   "source": [
    "df.sort_values(['score'])"
   ]
  },
  {
   "cell_type": "code",
   "execution_count": 76,
   "id": "97ffdcbe",
   "metadata": {
    "scrolled": true
   },
   "outputs": [
    {
     "data": {
      "text/html": [
       "<div>\n",
       "<style scoped>\n",
       "    .dataframe tbody tr th:only-of-type {\n",
       "        vertical-align: middle;\n",
       "    }\n",
       "\n",
       "    .dataframe tbody tr th {\n",
       "        vertical-align: top;\n",
       "    }\n",
       "\n",
       "    .dataframe thead th {\n",
       "        text-align: right;\n",
       "    }\n",
       "</style>\n",
       "<table border=\"1\" class=\"dataframe\">\n",
       "  <thead>\n",
       "    <tr style=\"text-align: right;\">\n",
       "      <th></th>\n",
       "      <th>id</th>\n",
       "      <th>comment_text</th>\n",
       "      <th>score</th>\n",
       "      <th>toxic</th>\n",
       "      <th>severe_toxic</th>\n",
       "      <th>obscene</th>\n",
       "      <th>threat</th>\n",
       "      <th>insult</th>\n",
       "      <th>identity_hate</th>\n",
       "    </tr>\n",
       "  </thead>\n",
       "  <tbody>\n",
       "    <tr>\n",
       "      <th>0</th>\n",
       "      <td>0001ea8717f6de06</td>\n",
       "      <td>Thank you for understanding. I think very high...</td>\n",
       "      <td>0.075638</td>\n",
       "      <td>0</td>\n",
       "      <td>0</td>\n",
       "      <td>0</td>\n",
       "      <td>0</td>\n",
       "      <td>0</td>\n",
       "      <td>0</td>\n",
       "    </tr>\n",
       "    <tr>\n",
       "      <th>1</th>\n",
       "      <td>000247e83dcc1211</td>\n",
       "      <td>:Dear god this site is horrible.</td>\n",
       "      <td>0.450459</td>\n",
       "      <td>0</td>\n",
       "      <td>0</td>\n",
       "      <td>0</td>\n",
       "      <td>0</td>\n",
       "      <td>0</td>\n",
       "      <td>0</td>\n",
       "    </tr>\n",
       "    <tr>\n",
       "      <th>2</th>\n",
       "      <td>0002f87b16116a7f</td>\n",
       "      <td>\"::: Somebody will invariably try to add Relig...</td>\n",
       "      <td>0.667964</td>\n",
       "      <td>0</td>\n",
       "      <td>0</td>\n",
       "      <td>0</td>\n",
       "      <td>0</td>\n",
       "      <td>0</td>\n",
       "      <td>0</td>\n",
       "    </tr>\n",
       "    <tr>\n",
       "      <th>3</th>\n",
       "      <td>0003e1cccfd5a40a</td>\n",
       "      <td>\" \\n\\n It says it right there that it IS a typ...</td>\n",
       "      <td>0.068434</td>\n",
       "      <td>0</td>\n",
       "      <td>0</td>\n",
       "      <td>0</td>\n",
       "      <td>0</td>\n",
       "      <td>0</td>\n",
       "      <td>0</td>\n",
       "    </tr>\n",
       "    <tr>\n",
       "      <th>4</th>\n",
       "      <td>00059ace3e3e9a53</td>\n",
       "      <td>\" \\n\\n == Before adding a new product to the l...</td>\n",
       "      <td>0.151724</td>\n",
       "      <td>0</td>\n",
       "      <td>0</td>\n",
       "      <td>0</td>\n",
       "      <td>0</td>\n",
       "      <td>0</td>\n",
       "      <td>0</td>\n",
       "    </tr>\n",
       "  </tbody>\n",
       "</table>\n",
       "</div>"
      ],
      "text/plain": [
       "                 id                                       comment_text  \\\n",
       "0  0001ea8717f6de06  Thank you for understanding. I think very high...   \n",
       "1  000247e83dcc1211                   :Dear god this site is horrible.   \n",
       "2  0002f87b16116a7f  \"::: Somebody will invariably try to add Relig...   \n",
       "3  0003e1cccfd5a40a  \" \\n\\n It says it right there that it IS a typ...   \n",
       "4  00059ace3e3e9a53  \" \\n\\n == Before adding a new product to the l...   \n",
       "\n",
       "      score  toxic  severe_toxic  obscene  threat  insult  identity_hate  \n",
       "0  0.075638      0             0        0       0       0              0  \n",
       "1  0.450459      0             0        0       0       0              0  \n",
       "2  0.667964      0             0        0       0       0              0  \n",
       "3  0.068434      0             0        0       0       0              0  \n",
       "4  0.151724      0             0        0       0       0              0  "
      ]
     },
     "execution_count": 76,
     "metadata": {},
     "output_type": "execute_result"
    }
   ],
   "source": [
    "df.head()"
   ]
  },
  {
   "cell_type": "markdown",
   "id": "2fe1fd9b",
   "metadata": {},
   "source": [
    "Then, I pulled the comments labeled as toxic or severe toxic by human labelers."
   ]
  },
  {
   "cell_type": "code",
   "execution_count": 77,
   "id": "91a5ce22",
   "metadata": {
    "scrolled": true
   },
   "outputs": [
    {
     "data": {
      "text/html": [
       "<div>\n",
       "<style scoped>\n",
       "    .dataframe tbody tr th:only-of-type {\n",
       "        vertical-align: middle;\n",
       "    }\n",
       "\n",
       "    .dataframe tbody tr th {\n",
       "        vertical-align: top;\n",
       "    }\n",
       "\n",
       "    .dataframe thead th {\n",
       "        text-align: right;\n",
       "    }\n",
       "</style>\n",
       "<table border=\"1\" class=\"dataframe\">\n",
       "  <thead>\n",
       "    <tr style=\"text-align: right;\">\n",
       "      <th></th>\n",
       "      <th>id</th>\n",
       "      <th>comment_text</th>\n",
       "      <th>score</th>\n",
       "      <th>toxic</th>\n",
       "      <th>severe_toxic</th>\n",
       "      <th>obscene</th>\n",
       "      <th>threat</th>\n",
       "      <th>insult</th>\n",
       "      <th>identity_hate</th>\n",
       "    </tr>\n",
       "  </thead>\n",
       "  <tbody>\n",
       "    <tr>\n",
       "      <th>8</th>\n",
       "      <td>00091c35fa9d0465</td>\n",
       "      <td>== Arabs are committing genocide in Iraq, but ...</td>\n",
       "      <td>0.635929</td>\n",
       "      <td>1</td>\n",
       "      <td>0</td>\n",
       "      <td>0</td>\n",
       "      <td>0</td>\n",
       "      <td>0</td>\n",
       "      <td>0</td>\n",
       "    </tr>\n",
       "    <tr>\n",
       "      <th>24</th>\n",
       "      <td>0013fed3aeae76b7</td>\n",
       "      <td>DJ Robinson is gay as hell! he sucks his dick ...</td>\n",
       "      <td>0.989706</td>\n",
       "      <td>1</td>\n",
       "      <td>0</td>\n",
       "      <td>1</td>\n",
       "      <td>0</td>\n",
       "      <td>1</td>\n",
       "      <td>1</td>\n",
       "    </tr>\n",
       "    <tr>\n",
       "      <th>29</th>\n",
       "      <td>0017d4d47894af05</td>\n",
       "      <td>:Fuck off, you anti-semitic cunt.  |</td>\n",
       "      <td>0.959459</td>\n",
       "      <td>1</td>\n",
       "      <td>0</td>\n",
       "      <td>1</td>\n",
       "      <td>0</td>\n",
       "      <td>1</td>\n",
       "      <td>0</td>\n",
       "    </tr>\n",
       "    <tr>\n",
       "      <th>37</th>\n",
       "      <td>001d739c97bc2ae4</td>\n",
       "      <td>How dare you vandalize that page about the HMS...</td>\n",
       "      <td>0.564152</td>\n",
       "      <td>1</td>\n",
       "      <td>0</td>\n",
       "      <td>0</td>\n",
       "      <td>0</td>\n",
       "      <td>0</td>\n",
       "      <td>0</td>\n",
       "    </tr>\n",
       "    <tr>\n",
       "      <th>38</th>\n",
       "      <td>001eff4007dbb65b</td>\n",
       "      <td>::No, he is an arrogant, self serving, immatur...</td>\n",
       "      <td>0.956893</td>\n",
       "      <td>1</td>\n",
       "      <td>0</td>\n",
       "      <td>1</td>\n",
       "      <td>0</td>\n",
       "      <td>1</td>\n",
       "      <td>0</td>\n",
       "    </tr>\n",
       "  </tbody>\n",
       "</table>\n",
       "</div>"
      ],
      "text/plain": [
       "                  id                                       comment_text  \\\n",
       "8   00091c35fa9d0465  == Arabs are committing genocide in Iraq, but ...   \n",
       "24  0013fed3aeae76b7  DJ Robinson is gay as hell! he sucks his dick ...   \n",
       "29  0017d4d47894af05               :Fuck off, you anti-semitic cunt.  |   \n",
       "37  001d739c97bc2ae4  How dare you vandalize that page about the HMS...   \n",
       "38  001eff4007dbb65b  ::No, he is an arrogant, self serving, immatur...   \n",
       "\n",
       "       score  toxic  severe_toxic  obscene  threat  insult  identity_hate  \n",
       "8   0.635929      1             0        0       0       0              0  \n",
       "24  0.989706      1             0        1       0       1              1  \n",
       "29  0.959459      1             0        1       0       1              0  \n",
       "37  0.564152      1             0        0       0       0              0  \n",
       "38  0.956893      1             0        1       0       1              0  "
      ]
     },
     "execution_count": 77,
     "metadata": {},
     "output_type": "execute_result"
    }
   ],
   "source": [
    "df[(df['toxic']==1)|(df['severe_toxic']==1)].head()"
   ]
  },
  {
   "cell_type": "markdown",
   "id": "dd704782",
   "metadata": {},
   "source": [
    "Below includes a function to make calls to the Perspective API to get the toxicity score."
   ]
  },
  {
   "cell_type": "code",
   "execution_count": 79,
   "id": "5aef7c0b",
   "metadata": {},
   "outputs": [],
   "source": [
    "from googleapiclient.discovery import build\n",
    "import json\n",
    "\n",
    "def get_toxicity_score(comment):\n",
    "    \n",
    "  API_KEY = 'XXXX' # Put your API key here\n",
    "    \n",
    "  client = build(\n",
    "  \"commentanalyzer\",\n",
    "  \"v1alpha1\",\n",
    "  developerKey=API_KEY,\n",
    "  discoveryServiceUrl=\"https://commentanalyzer.googleapis.com/$discovery/rest?version=v1alpha1\"\n",
    "  )\n",
    "\n",
    "  analyze_request = {\n",
    "  'comment': { 'text': comment },\n",
    "  'requestedAttributes': {'TOXICITY': {}}\n",
    "  }\n",
    "    \n",
    "  response = client.comments().analyze(body=analyze_request).execute()\n",
    "  toxicity_score = response[\"attributeScores\"][\"TOXICITY\"][\"summaryScore\"][\"value\"]\n",
    "    \n",
    "  return toxicity_score"
   ]
  },
  {
   "cell_type": "markdown",
   "id": "8880ae4f",
   "metadata": {},
   "source": [
    "Here, I am gauging to see what the threshold of toxicity could be, aka at what point is a score considered toxic. I tested different phrases to do so, including positive, neutral, and explicit phrases."
   ]
  },
  {
   "cell_type": "code",
   "execution_count": 80,
   "id": "e1de16e2",
   "metadata": {},
   "outputs": [
    {
     "data": {
      "text/plain": [
       "0.040628307"
      ]
     },
     "execution_count": 80,
     "metadata": {},
     "output_type": "execute_result"
    }
   ],
   "source": [
    "get_toxicity_score(\"I love you\")"
   ]
  },
  {
   "cell_type": "code",
   "execution_count": 81,
   "id": "59710f0a",
   "metadata": {},
   "outputs": [
    {
     "data": {
      "text/plain": [
       "0.01561861"
      ]
     },
     "execution_count": 81,
     "metadata": {},
     "output_type": "execute_result"
    }
   ],
   "source": [
    "get_toxicity_score(\"thank you\")"
   ]
  },
  {
   "cell_type": "code",
   "execution_count": 82,
   "id": "ff85fed7",
   "metadata": {},
   "outputs": [
    {
     "data": {
      "text/plain": [
       "0.018187003"
      ]
     },
     "execution_count": 82,
     "metadata": {},
     "output_type": "execute_result"
    }
   ],
   "source": [
    "get_toxicity_score(\"how are you\")"
   ]
  },
  {
   "cell_type": "code",
   "execution_count": 83,
   "id": "1da26bd9",
   "metadata": {},
   "outputs": [
    {
     "data": {
      "text/plain": [
       "0.6357597"
      ]
     },
     "execution_count": 83,
     "metadata": {},
     "output_type": "execute_result"
    }
   ],
   "source": [
    "get_toxicity_score(\"ugly\")"
   ]
  },
  {
   "cell_type": "code",
   "execution_count": 84,
   "id": "2e5401e0",
   "metadata": {},
   "outputs": [
    {
     "data": {
      "text/plain": [
       "0.44670263"
      ]
     },
     "execution_count": 84,
     "metadata": {},
     "output_type": "execute_result"
    }
   ],
   "source": [
    "get_toxicity_score(\"fat\")"
   ]
  },
  {
   "cell_type": "code",
   "execution_count": 85,
   "id": "a2271aaf",
   "metadata": {},
   "outputs": [
    {
     "data": {
      "text/plain": [
       "0.9017833"
      ]
     },
     "execution_count": 85,
     "metadata": {},
     "output_type": "execute_result"
    }
   ],
   "source": [
    "get_toxicity_score(\"fuck\")"
   ]
  },
  {
   "cell_type": "code",
   "execution_count": 86,
   "id": "dd3d7a96",
   "metadata": {},
   "outputs": [
    {
     "data": {
      "text/plain": [
       "0.2712817"
      ]
     },
     "execution_count": 86,
     "metadata": {},
     "output_type": "execute_result"
    }
   ],
   "source": [
    "get_toxicity_score(\"hate\")"
   ]
  },
  {
   "cell_type": "markdown",
   "id": "7acd258b",
   "metadata": {},
   "source": [
    "I have decided to make the threshold as 0.4, to account for how a word like \"hate\" scored 0.271 while \"ugly\" scored 0.636. Then, I am testing to see how well the Perspective API performs in marking toxic comments in general with the complete dataset, based off this threshold."
   ]
  },
  {
   "cell_type": "code",
   "execution_count": 15,
   "id": "04a6b619",
   "metadata": {
    "scrolled": true
   },
   "outputs": [
    {
     "data": {
      "text/plain": [
       "0    33115\n",
       "1     8223\n",
       "Name: prediction, dtype: int64"
      ]
     },
     "execution_count": 15,
     "metadata": {},
     "output_type": "execute_result"
    }
   ],
   "source": [
    "threshold = 0.4\n",
    "\n",
    "df['prediction'] = (df['score'] > threshold).astype(int)\n",
    "df['prediction'].value_counts()"
   ]
  },
  {
   "cell_type": "markdown",
   "id": "a9731048",
   "metadata": {},
   "source": [
    "It seems that the Perspective API marks more comments as toxic than not. I am interested to see the ratio of true positivies to false positives as well as true negatives to false negatives."
   ]
  },
  {
   "cell_type": "code",
   "execution_count": 17,
   "id": "20e0fcdc",
   "metadata": {},
   "outputs": [],
   "source": [
    "from sklearn.metrics import confusion_matrix"
   ]
  },
  {
   "cell_type": "code",
   "execution_count": 18,
   "id": "e89a6ce2",
   "metadata": {},
   "outputs": [
    {
     "data": {
      "text/plain": [
       "array([[32978,  4417],\n",
       "       [  137,  3806]])"
      ]
     },
     "execution_count": 18,
     "metadata": {},
     "output_type": "execute_result"
    }
   ],
   "source": [
    "confusion_matrix(df['toxic'], df['prediction'])"
   ]
  },
  {
   "cell_type": "markdown",
   "id": "bcd4e771",
   "metadata": {},
   "source": [
    "It seems like in general, the Perspective API has a greater ratio of true positives to fale positives, compared to true negatives to false negatives. "
   ]
  },
  {
   "cell_type": "markdown",
   "id": "437d9806",
   "metadata": {},
   "source": [
    "Now, I am going to pull comments from the dataset that contain Internet slang acronyms, specifically 'lol', 'lmao', 'lmfao', 'wth','wtf', 'jk', 'idk', 'smh', 'ikr', and 'tbh'."
   ]
  },
  {
   "cell_type": "code",
   "execution_count": 101,
   "id": "606d1f54",
   "metadata": {},
   "outputs": [],
   "source": [
    "slang_df = df.loc[df.comment_text.str.contains(r'\\b(?:lol|lmao|lmfao|jk|wth|wtf|idk|smh|ikr|tbh)\\b')]"
   ]
  },
  {
   "cell_type": "markdown",
   "id": "0b35342a",
   "metadata": {},
   "source": [
    "I have created a new sample from the dataset, containing comments with the above Internet sland acronyms. Notedly, it has an average API toxicity score of 0.440, with a standard deviation of 0.302."
   ]
  },
  {
   "cell_type": "code",
   "execution_count": 68,
   "id": "bba3e4fa",
   "metadata": {
    "scrolled": true
   },
   "outputs": [
    {
     "data": {
      "text/html": [
       "<div>\n",
       "<style scoped>\n",
       "    .dataframe tbody tr th:only-of-type {\n",
       "        vertical-align: middle;\n",
       "    }\n",
       "\n",
       "    .dataframe tbody tr th {\n",
       "        vertical-align: top;\n",
       "    }\n",
       "\n",
       "    .dataframe thead th {\n",
       "        text-align: right;\n",
       "    }\n",
       "</style>\n",
       "<table border=\"1\" class=\"dataframe\">\n",
       "  <thead>\n",
       "    <tr style=\"text-align: right;\">\n",
       "      <th></th>\n",
       "      <th>score</th>\n",
       "      <th>toxic</th>\n",
       "      <th>severe_toxic</th>\n",
       "      <th>obscene</th>\n",
       "      <th>threat</th>\n",
       "      <th>insult</th>\n",
       "      <th>identity_hate</th>\n",
       "      <th>prediction</th>\n",
       "    </tr>\n",
       "  </thead>\n",
       "  <tbody>\n",
       "    <tr>\n",
       "      <th>count</th>\n",
       "      <td>145.000000</td>\n",
       "      <td>145.000000</td>\n",
       "      <td>145.000000</td>\n",
       "      <td>145.000000</td>\n",
       "      <td>145.0</td>\n",
       "      <td>145.000000</td>\n",
       "      <td>145.000000</td>\n",
       "      <td>145.000000</td>\n",
       "    </tr>\n",
       "    <tr>\n",
       "      <th>mean</th>\n",
       "      <td>0.439647</td>\n",
       "      <td>0.268966</td>\n",
       "      <td>0.006897</td>\n",
       "      <td>0.137931</td>\n",
       "      <td>0.0</td>\n",
       "      <td>0.082759</td>\n",
       "      <td>0.020690</td>\n",
       "      <td>0.489655</td>\n",
       "    </tr>\n",
       "    <tr>\n",
       "      <th>std</th>\n",
       "      <td>0.301553</td>\n",
       "      <td>0.444959</td>\n",
       "      <td>0.083045</td>\n",
       "      <td>0.346023</td>\n",
       "      <td>0.0</td>\n",
       "      <td>0.276472</td>\n",
       "      <td>0.142837</td>\n",
       "      <td>0.501626</td>\n",
       "    </tr>\n",
       "    <tr>\n",
       "      <th>min</th>\n",
       "      <td>0.051259</td>\n",
       "      <td>0.000000</td>\n",
       "      <td>0.000000</td>\n",
       "      <td>0.000000</td>\n",
       "      <td>0.0</td>\n",
       "      <td>0.000000</td>\n",
       "      <td>0.000000</td>\n",
       "      <td>0.000000</td>\n",
       "    </tr>\n",
       "    <tr>\n",
       "      <th>25%</th>\n",
       "      <td>0.144994</td>\n",
       "      <td>0.000000</td>\n",
       "      <td>0.000000</td>\n",
       "      <td>0.000000</td>\n",
       "      <td>0.0</td>\n",
       "      <td>0.000000</td>\n",
       "      <td>0.000000</td>\n",
       "      <td>0.000000</td>\n",
       "    </tr>\n",
       "    <tr>\n",
       "      <th>50%</th>\n",
       "      <td>0.377297</td>\n",
       "      <td>0.000000</td>\n",
       "      <td>0.000000</td>\n",
       "      <td>0.000000</td>\n",
       "      <td>0.0</td>\n",
       "      <td>0.000000</td>\n",
       "      <td>0.000000</td>\n",
       "      <td>0.000000</td>\n",
       "    </tr>\n",
       "    <tr>\n",
       "      <th>75%</th>\n",
       "      <td>0.713667</td>\n",
       "      <td>1.000000</td>\n",
       "      <td>0.000000</td>\n",
       "      <td>0.000000</td>\n",
       "      <td>0.0</td>\n",
       "      <td>0.000000</td>\n",
       "      <td>0.000000</td>\n",
       "      <td>1.000000</td>\n",
       "    </tr>\n",
       "    <tr>\n",
       "      <th>max</th>\n",
       "      <td>0.994802</td>\n",
       "      <td>1.000000</td>\n",
       "      <td>1.000000</td>\n",
       "      <td>1.000000</td>\n",
       "      <td>0.0</td>\n",
       "      <td>1.000000</td>\n",
       "      <td>1.000000</td>\n",
       "      <td>1.000000</td>\n",
       "    </tr>\n",
       "  </tbody>\n",
       "</table>\n",
       "</div>"
      ],
      "text/plain": [
       "            score       toxic  severe_toxic     obscene  threat      insult  \\\n",
       "count  145.000000  145.000000    145.000000  145.000000   145.0  145.000000   \n",
       "mean     0.439647    0.268966      0.006897    0.137931     0.0    0.082759   \n",
       "std      0.301553    0.444959      0.083045    0.346023     0.0    0.276472   \n",
       "min      0.051259    0.000000      0.000000    0.000000     0.0    0.000000   \n",
       "25%      0.144994    0.000000      0.000000    0.000000     0.0    0.000000   \n",
       "50%      0.377297    0.000000      0.000000    0.000000     0.0    0.000000   \n",
       "75%      0.713667    1.000000      0.000000    0.000000     0.0    0.000000   \n",
       "max      0.994802    1.000000      1.000000    1.000000     0.0    1.000000   \n",
       "\n",
       "       identity_hate  prediction  \n",
       "count     145.000000  145.000000  \n",
       "mean        0.020690    0.489655  \n",
       "std         0.142837    0.501626  \n",
       "min         0.000000    0.000000  \n",
       "25%         0.000000    0.000000  \n",
       "50%         0.000000    0.000000  \n",
       "75%         0.000000    1.000000  \n",
       "max         1.000000    1.000000  "
      ]
     },
     "execution_count": 68,
     "metadata": {},
     "output_type": "execute_result"
    }
   ],
   "source": [
    "slang_df.describe()"
   ]
  },
  {
   "cell_type": "code",
   "execution_count": 69,
   "id": "0980cc10",
   "metadata": {
    "scrolled": false
   },
   "outputs": [
    {
     "data": {
      "text/html": [
       "<div>\n",
       "<style scoped>\n",
       "    .dataframe tbody tr th:only-of-type {\n",
       "        vertical-align: middle;\n",
       "    }\n",
       "\n",
       "    .dataframe tbody tr th {\n",
       "        vertical-align: top;\n",
       "    }\n",
       "\n",
       "    .dataframe thead th {\n",
       "        text-align: right;\n",
       "    }\n",
       "</style>\n",
       "<table border=\"1\" class=\"dataframe\">\n",
       "  <thead>\n",
       "    <tr style=\"text-align: right;\">\n",
       "      <th></th>\n",
       "      <th>id</th>\n",
       "      <th>comment_text</th>\n",
       "      <th>score</th>\n",
       "      <th>toxic</th>\n",
       "      <th>severe_toxic</th>\n",
       "      <th>obscene</th>\n",
       "      <th>threat</th>\n",
       "      <th>insult</th>\n",
       "      <th>identity_hate</th>\n",
       "      <th>prediction</th>\n",
       "    </tr>\n",
       "  </thead>\n",
       "  <tbody>\n",
       "    <tr>\n",
       "      <th>2939</th>\n",
       "      <td>0b742fa92b4169b8</td>\n",
       "      <td>== I do wonder lol == \\n\\n I was going to give...</td>\n",
       "      <td>0.051259</td>\n",
       "      <td>0</td>\n",
       "      <td>0</td>\n",
       "      <td>0</td>\n",
       "      <td>0</td>\n",
       "      <td>0</td>\n",
       "      <td>0</td>\n",
       "      <td>0</td>\n",
       "    </tr>\n",
       "    <tr>\n",
       "      <th>21685</th>\n",
       "      <td>fdd5f92d0d639e7f</td>\n",
       "      <td>Just look for things like match reports.  It's...</td>\n",
       "      <td>0.059447</td>\n",
       "      <td>0</td>\n",
       "      <td>0</td>\n",
       "      <td>0</td>\n",
       "      <td>0</td>\n",
       "      <td>0</td>\n",
       "      <td>0</td>\n",
       "      <td>0</td>\n",
       "    </tr>\n",
       "    <tr>\n",
       "      <th>41219</th>\n",
       "      <td>950c2210de11f3b3</td>\n",
       "      <td>Yes, I can tell. lol</td>\n",
       "      <td>0.061462</td>\n",
       "      <td>0</td>\n",
       "      <td>0</td>\n",
       "      <td>0</td>\n",
       "      <td>0</td>\n",
       "      <td>0</td>\n",
       "      <td>0</td>\n",
       "      <td>0</td>\n",
       "    </tr>\n",
       "    <tr>\n",
       "      <th>12111</th>\n",
       "      <td>94848791a3cd9be6</td>\n",
       "      <td>lol, that's all I wanted to hear ) Thankyou!</td>\n",
       "      <td>0.072715</td>\n",
       "      <td>0</td>\n",
       "      <td>0</td>\n",
       "      <td>0</td>\n",
       "      <td>0</td>\n",
       "      <td>0</td>\n",
       "      <td>0</td>\n",
       "      <td>0</td>\n",
       "    </tr>\n",
       "    <tr>\n",
       "      <th>19339</th>\n",
       "      <td>1e762d0e8f59f364</td>\n",
       "      <td>http://www.smh.com.au/business/skilled-group-c...</td>\n",
       "      <td>0.073950</td>\n",
       "      <td>0</td>\n",
       "      <td>0</td>\n",
       "      <td>0</td>\n",
       "      <td>0</td>\n",
       "      <td>0</td>\n",
       "      <td>0</td>\n",
       "      <td>0</td>\n",
       "    </tr>\n",
       "    <tr>\n",
       "      <th>...</th>\n",
       "      <td>...</td>\n",
       "      <td>...</td>\n",
       "      <td>...</td>\n",
       "      <td>...</td>\n",
       "      <td>...</td>\n",
       "      <td>...</td>\n",
       "      <td>...</td>\n",
       "      <td>...</td>\n",
       "      <td>...</td>\n",
       "      <td>...</td>\n",
       "    </tr>\n",
       "    <tr>\n",
       "      <th>9394</th>\n",
       "      <td>c14b1ca18a037a35</td>\n",
       "      <td>Hey JustAnother \\nYou suck balls  lol</td>\n",
       "      <td>0.949581</td>\n",
       "      <td>1</td>\n",
       "      <td>0</td>\n",
       "      <td>0</td>\n",
       "      <td>0</td>\n",
       "      <td>0</td>\n",
       "      <td>0</td>\n",
       "      <td>1</td>\n",
       "    </tr>\n",
       "    <tr>\n",
       "      <th>1448</th>\n",
       "      <td>79940986763428e2</td>\n",
       "      <td>brezzo sucks balls hahahahaha lol</td>\n",
       "      <td>0.950997</td>\n",
       "      <td>1</td>\n",
       "      <td>0</td>\n",
       "      <td>1</td>\n",
       "      <td>0</td>\n",
       "      <td>1</td>\n",
       "      <td>0</td>\n",
       "      <td>1</td>\n",
       "    </tr>\n",
       "    <tr>\n",
       "      <th>37988</th>\n",
       "      <td>a6457ca0175c88fa</td>\n",
       "      <td>fucking die \\n\\nlol rofl \\njoke\\n\\nhahahahahah...</td>\n",
       "      <td>0.962246</td>\n",
       "      <td>1</td>\n",
       "      <td>1</td>\n",
       "      <td>1</td>\n",
       "      <td>0</td>\n",
       "      <td>0</td>\n",
       "      <td>0</td>\n",
       "      <td>1</td>\n",
       "    </tr>\n",
       "    <tr>\n",
       "      <th>1756</th>\n",
       "      <td>95943cf07c616ce2</td>\n",
       "      <td>nigga bitch holez lol</td>\n",
       "      <td>0.982484</td>\n",
       "      <td>1</td>\n",
       "      <td>0</td>\n",
       "      <td>1</td>\n",
       "      <td>0</td>\n",
       "      <td>1</td>\n",
       "      <td>1</td>\n",
       "      <td>1</td>\n",
       "    </tr>\n",
       "    <tr>\n",
       "      <th>38412</th>\n",
       "      <td>a41007da2c8bad58</td>\n",
       "      <td>fuck you, idiot. you don't even know the subje...</td>\n",
       "      <td>0.994802</td>\n",
       "      <td>1</td>\n",
       "      <td>0</td>\n",
       "      <td>1</td>\n",
       "      <td>0</td>\n",
       "      <td>1</td>\n",
       "      <td>0</td>\n",
       "      <td>1</td>\n",
       "    </tr>\n",
       "  </tbody>\n",
       "</table>\n",
       "<p>145 rows × 10 columns</p>\n",
       "</div>"
      ],
      "text/plain": [
       "                     id                                       comment_text  \\\n",
       "2939   0b742fa92b4169b8  == I do wonder lol == \\n\\n I was going to give...   \n",
       "21685  fdd5f92d0d639e7f  Just look for things like match reports.  It's...   \n",
       "41219  950c2210de11f3b3                               Yes, I can tell. lol   \n",
       "12111  94848791a3cd9be6       lol, that's all I wanted to hear ) Thankyou!   \n",
       "19339  1e762d0e8f59f364  http://www.smh.com.au/business/skilled-group-c...   \n",
       "...                 ...                                                ...   \n",
       "9394   c14b1ca18a037a35              Hey JustAnother \\nYou suck balls  lol   \n",
       "1448   79940986763428e2                  brezzo sucks balls hahahahaha lol   \n",
       "37988  a6457ca0175c88fa  fucking die \\n\\nlol rofl \\njoke\\n\\nhahahahahah...   \n",
       "1756   95943cf07c616ce2                              nigga bitch holez lol   \n",
       "38412  a41007da2c8bad58  fuck you, idiot. you don't even know the subje...   \n",
       "\n",
       "          score  toxic  severe_toxic  obscene  threat  insult  identity_hate  \\\n",
       "2939   0.051259      0             0        0       0       0              0   \n",
       "21685  0.059447      0             0        0       0       0              0   \n",
       "41219  0.061462      0             0        0       0       0              0   \n",
       "12111  0.072715      0             0        0       0       0              0   \n",
       "19339  0.073950      0             0        0       0       0              0   \n",
       "...         ...    ...           ...      ...     ...     ...            ...   \n",
       "9394   0.949581      1             0        0       0       0              0   \n",
       "1448   0.950997      1             0        1       0       1              0   \n",
       "37988  0.962246      1             1        1       0       0              0   \n",
       "1756   0.982484      1             0        1       0       1              1   \n",
       "38412  0.994802      1             0        1       0       1              0   \n",
       "\n",
       "       prediction  \n",
       "2939            0  \n",
       "21685           0  \n",
       "41219           0  \n",
       "12111           0  \n",
       "19339           0  \n",
       "...           ...  \n",
       "9394            1  \n",
       "1448            1  \n",
       "37988           1  \n",
       "1756            1  \n",
       "38412           1  \n",
       "\n",
       "[145 rows x 10 columns]"
      ]
     },
     "execution_count": 69,
     "metadata": {},
     "output_type": "execute_result"
    }
   ],
   "source": [
    "slang_df.sort_values(['score'])"
   ]
  },
  {
   "cell_type": "markdown",
   "id": "e107b6cb",
   "metadata": {},
   "source": [
    "Below, I pulled specifically comments that were labeled as toxic or severe toxic by humans."
   ]
  },
  {
   "cell_type": "markdown",
   "id": "cb235669",
   "metadata": {},
   "source": [
    "Below, I pulled specifically comments that were labeled as toxic by humans."
   ]
  },
  {
   "cell_type": "code",
   "execution_count": 70,
   "id": "4fdcd670",
   "metadata": {
    "scrolled": true
   },
   "outputs": [
    {
     "data": {
      "text/html": [
       "<div>\n",
       "<style scoped>\n",
       "    .dataframe tbody tr th:only-of-type {\n",
       "        vertical-align: middle;\n",
       "    }\n",
       "\n",
       "    .dataframe tbody tr th {\n",
       "        vertical-align: top;\n",
       "    }\n",
       "\n",
       "    .dataframe thead th {\n",
       "        text-align: right;\n",
       "    }\n",
       "</style>\n",
       "<table border=\"1\" class=\"dataframe\">\n",
       "  <thead>\n",
       "    <tr style=\"text-align: right;\">\n",
       "      <th></th>\n",
       "      <th>id</th>\n",
       "      <th>comment_text</th>\n",
       "      <th>score</th>\n",
       "      <th>toxic</th>\n",
       "      <th>severe_toxic</th>\n",
       "      <th>obscene</th>\n",
       "      <th>threat</th>\n",
       "      <th>insult</th>\n",
       "      <th>identity_hate</th>\n",
       "      <th>prediction</th>\n",
       "    </tr>\n",
       "  </thead>\n",
       "  <tbody>\n",
       "    <tr>\n",
       "      <th>640</th>\n",
       "      <td>33b5ce98646a0dc9</td>\n",
       "      <td>lol \\n\\n  \\n\\n == rules == \\n\\n rules! \\n\\n no...</td>\n",
       "      <td>0.901749</td>\n",
       "      <td>1</td>\n",
       "      <td>0</td>\n",
       "      <td>1</td>\n",
       "      <td>0</td>\n",
       "      <td>1</td>\n",
       "      <td>1</td>\n",
       "      <td>1</td>\n",
       "    </tr>\n",
       "    <tr>\n",
       "      <th>1448</th>\n",
       "      <td>79940986763428e2</td>\n",
       "      <td>brezzo sucks balls hahahahaha lol</td>\n",
       "      <td>0.950997</td>\n",
       "      <td>1</td>\n",
       "      <td>0</td>\n",
       "      <td>1</td>\n",
       "      <td>0</td>\n",
       "      <td>1</td>\n",
       "      <td>0</td>\n",
       "      <td>1</td>\n",
       "    </tr>\n",
       "    <tr>\n",
       "      <th>1717</th>\n",
       "      <td>91b08eb97add3b24</td>\n",
       "      <td>*You haven't been uncivil?  BS!  Your ignoranc...</td>\n",
       "      <td>0.796997</td>\n",
       "      <td>1</td>\n",
       "      <td>0</td>\n",
       "      <td>0</td>\n",
       "      <td>0</td>\n",
       "      <td>0</td>\n",
       "      <td>0</td>\n",
       "      <td>1</td>\n",
       "    </tr>\n",
       "    <tr>\n",
       "      <th>1756</th>\n",
       "      <td>95943cf07c616ce2</td>\n",
       "      <td>nigga bitch holez lol</td>\n",
       "      <td>0.982484</td>\n",
       "      <td>1</td>\n",
       "      <td>0</td>\n",
       "      <td>1</td>\n",
       "      <td>0</td>\n",
       "      <td>1</td>\n",
       "      <td>1</td>\n",
       "      <td>1</td>\n",
       "    </tr>\n",
       "    <tr>\n",
       "      <th>1809</th>\n",
       "      <td>997c318147caa4dd</td>\n",
       "      <td>i hate u !! lol jkinn</td>\n",
       "      <td>0.912972</td>\n",
       "      <td>1</td>\n",
       "      <td>0</td>\n",
       "      <td>0</td>\n",
       "      <td>0</td>\n",
       "      <td>0</td>\n",
       "      <td>0</td>\n",
       "      <td>1</td>\n",
       "    </tr>\n",
       "  </tbody>\n",
       "</table>\n",
       "</div>"
      ],
      "text/plain": [
       "                    id                                       comment_text  \\\n",
       "640   33b5ce98646a0dc9  lol \\n\\n  \\n\\n == rules == \\n\\n rules! \\n\\n no...   \n",
       "1448  79940986763428e2                  brezzo sucks balls hahahahaha lol   \n",
       "1717  91b08eb97add3b24  *You haven't been uncivil?  BS!  Your ignoranc...   \n",
       "1756  95943cf07c616ce2                              nigga bitch holez lol   \n",
       "1809  997c318147caa4dd                              i hate u !! lol jkinn   \n",
       "\n",
       "         score  toxic  severe_toxic  obscene  threat  insult  identity_hate  \\\n",
       "640   0.901749      1             0        1       0       1              1   \n",
       "1448  0.950997      1             0        1       0       1              0   \n",
       "1717  0.796997      1             0        0       0       0              0   \n",
       "1756  0.982484      1             0        1       0       1              1   \n",
       "1809  0.912972      1             0        0       0       0              0   \n",
       "\n",
       "      prediction  \n",
       "640            1  \n",
       "1448           1  \n",
       "1717           1  \n",
       "1756           1  \n",
       "1809           1  "
      ]
     },
     "execution_count": 70,
     "metadata": {},
     "output_type": "execute_result"
    }
   ],
   "source": [
    "slang_df[(slang_df['toxic']==1)|(slang_df['severe_toxic']==1)].head()"
   ]
  },
  {
   "cell_type": "markdown",
   "id": "4174bae6",
   "metadata": {},
   "source": [
    "Using the same threshold of 0.4, I am testing to see how well the Perspective API performs in marking toxic comments with the Internet slang acronyms."
   ]
  },
  {
   "cell_type": "code",
   "execution_count": 99,
   "id": "54403993",
   "metadata": {
    "scrolled": true
   },
   "outputs": [
    {
     "data": {
      "text/plain": [
       "0    74\n",
       "1    71\n",
       "Name: prediction, dtype: int64"
      ]
     },
     "execution_count": 99,
     "metadata": {},
     "output_type": "execute_result"
    }
   ],
   "source": [
    "threshold = 0.4\n",
    "\n",
    "slang_df['prediction'] = (slang_df['score'] > threshold).astype(int)\n",
    "slang_df['prediction'].value_counts()"
   ]
  },
  {
   "cell_type": "markdown",
   "id": "1a23deff",
   "metadata": {},
   "source": [
    "It seems that the Perspective API marks almost just as many comments toxic as not toxic. I am interested to see the ratio of true positivies to false positives as well as true negatives to false negatives."
   ]
  },
  {
   "cell_type": "code",
   "execution_count": 100,
   "id": "2a668c0c",
   "metadata": {},
   "outputs": [
    {
     "data": {
      "text/plain": [
       "array([[74, 32],\n",
       "       [ 0, 39]])"
      ]
     },
     "execution_count": 100,
     "metadata": {},
     "output_type": "execute_result"
    }
   ],
   "source": [
    "confusion_matrix(slang_df['toxic'], slang_df['prediction'])"
   ]
  },
  {
   "cell_type": "markdown",
   "id": "8b3f7ebb",
   "metadata": {},
   "source": [
    "Here, it is shown that the Perspective API did worse marking toxic content. However, notedly I am working with a much smaller sample, which could be influencing these numbers. From this sample though, this proves my hypothesis to be true as the Perspective API performed worse with comments that had Internet slang acronynms. "
   ]
  }
 ],
 "metadata": {
  "kernelspec": {
   "display_name": "Python 3 (ipykernel)",
   "language": "python",
   "name": "python3"
  },
  "language_info": {
   "codemirror_mode": {
    "name": "ipython",
    "version": 3
   },
   "file_extension": ".py",
   "mimetype": "text/x-python",
   "name": "python",
   "nbconvert_exporter": "python",
   "pygments_lexer": "ipython3",
   "version": "3.9.12"
  }
 },
 "nbformat": 4,
 "nbformat_minor": 5
}
